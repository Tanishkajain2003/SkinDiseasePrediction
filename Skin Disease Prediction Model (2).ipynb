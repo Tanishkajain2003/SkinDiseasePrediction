{
 "cells": [
  {
   "cell_type": "code",
   "execution_count": 1,
   "id": "e5bc90e0",
   "metadata": {},
   "outputs": [
    {
     "name": "stdout",
     "output_type": "stream",
     "text": [
      "WARNING:tensorflow:From C:\\Users\\TANISHKA\\anaconda3\\Lib\\site-packages\\keras\\src\\losses.py:2976: The name tf.losses.sparse_softmax_cross_entropy is deprecated. Please use tf.compat.v1.losses.sparse_softmax_cross_entropy instead.\n",
      "\n"
     ]
    }
   ],
   "source": [
    "import tensorflow as tf\n",
    "from keras.preprocessing import image\n",
    "from keras.preprocessing.image import ImageDataGenerator\n",
    "from keras.models import Model\n",
    "from keras.layers import Input, Flatten, Dense, Dropout,GlobalAveragePooling2D\n",
    "from keras.applications.mobilenet import MobileNet, preprocess_input\n",
    "import math\n",
    "import numpy as np"
   ]
  },
  {
   "cell_type": "code",
   "execution_count": 2,
   "id": "55af2818",
   "metadata": {},
   "outputs": [],
   "source": [
    "TRAIN_DATA_DIR = r\"C:\\Users\\TANISHKA\\OneDrive\\Desktop\\Train2\"\n",
    "VALIDATION_DATA_DIR = r\"C:\\Users\\TANISHKA\\OneDrive\\Desktop\\Validation\"\n",
    "TRAIN_SAMPLES = 500\n",
    "VALIDATION_SAMPLES = 250\n",
    "NUM_CLASSES = 5\n",
    "IMG_WIDTH, IMG_HEIGHT = 224, 224\n",
    "BATCH_SIZE = 64\n"
   ]
  },
  {
   "cell_type": "code",
   "execution_count": 3,
   "id": "224cb0fe",
   "metadata": {},
   "outputs": [],
   "source": [
    "train_datagen = ImageDataGenerator(preprocessing_function=preprocess_input,\n",
    "rotation_range=20,\n",
    "width_shift_range=0.2,\n",
    "height_shift_range=0.2,\n",
    "zoom_range=0.2)\n",
    "val_datagen = ImageDataGenerator(preprocessing_function=preprocess_input)"
   ]
  },
  {
   "cell_type": "code",
   "execution_count": 4,
   "id": "9095da28",
   "metadata": {},
   "outputs": [
    {
     "name": "stdout",
     "output_type": "stream",
     "text": [
      "Found 500 images belonging to 5 classes.\n",
      "Found 250 images belonging to 5 classes.\n"
     ]
    }
   ],
   "source": [
    "train_generator = train_datagen.flow_from_directory(\n",
    "TRAIN_DATA_DIR,\n",
    "target_size=(IMG_WIDTH, IMG_HEIGHT),\n",
    "batch_size=BATCH_SIZE,\n",
    "shuffle=True,\n",
    "seed=12345,\n",
    "class_mode='categorical')\n",
    "validation_generator = val_datagen.flow_from_directory(\n",
    "VALIDATION_DATA_DIR,\n",
    "target_size=(IMG_WIDTH, IMG_HEIGHT),\n",
    "batch_size=BATCH_SIZE,\n",
    "shuffle=False,\n",
    "class_mode='categorical')"
   ]
  },
  {
   "cell_type": "code",
   "execution_count": 5,
   "id": "121f78f9",
   "metadata": {},
   "outputs": [],
   "source": [
    "def model_maker():\n",
    "    base_model = MobileNet(include_top=False, input_shape =(IMG_WIDTH,IMG_HEIGHT,3))\n",
    "    for layer in base_model.layers[:]:\n",
    "        layer.trainable = False # Freeze the layers\n",
    "    input = Input(shape=(IMG_WIDTH, IMG_HEIGHT, 3))\n",
    "    custom_model = base_model(input)\n",
    "    custom_model = GlobalAveragePooling2D()(custom_model)\n",
    "    custom_model = Dense(64, activation='relu')(custom_model)\n",
    "    custom_model = Dropout(0.5)(custom_model)\n",
    "    predictions = Dense(NUM_CLASSES, activation='softmax')(custom_model)\n",
    "    return Model(inputs=input, outputs=predictions)"
   ]
  },
  {
   "cell_type": "code",
   "execution_count": 6,
   "id": "9c7def4c",
   "metadata": {},
   "outputs": [
    {
     "name": "stdout",
     "output_type": "stream",
     "text": [
      "WARNING:tensorflow:From C:\\Users\\TANISHKA\\anaconda3\\Lib\\site-packages\\keras\\src\\backend.py:1398: The name tf.executing_eagerly_outside_functions is deprecated. Please use tf.compat.v1.executing_eagerly_outside_functions instead.\n",
      "\n",
      "WARNING:tensorflow:From C:\\Users\\TANISHKA\\anaconda3\\Lib\\site-packages\\keras\\src\\layers\\normalization\\batch_normalization.py:979: The name tf.nn.fused_batch_norm is deprecated. Please use tf.compat.v1.nn.fused_batch_norm instead.\n",
      "\n",
      "Epoch 1/10\n",
      "WARNING:tensorflow:From C:\\Users\\TANISHKA\\anaconda3\\Lib\\site-packages\\keras\\src\\utils\\tf_utils.py:492: The name tf.ragged.RaggedTensorValue is deprecated. Please use tf.compat.v1.ragged.RaggedTensorValue instead.\n",
      "\n",
      "WARNING:tensorflow:From C:\\Users\\TANISHKA\\anaconda3\\Lib\\site-packages\\keras\\src\\engine\\base_layer_utils.py:384: The name tf.executing_eagerly_outside_functions is deprecated. Please use tf.compat.v1.executing_eagerly_outside_functions instead.\n",
      "\n",
      "8/8 [==============================] - ETA: 0s - loss: 1.7000 - acc: 0.3520WARNING:tensorflow:Your input ran out of data; interrupting training. Make sure that your dataset or generator can generate at least `steps_per_epoch * epochs` batches (in this case, 8 batches). You may need to use the repeat() function when building your dataset.\n",
      "8/8 [==============================] - 40s 4s/step - loss: 1.7000 - acc: 0.3520 - val_loss: 1.0461 - val_acc: 0.6360\n",
      "Epoch 2/10\n",
      "8/8 [==============================] - 21s 3s/step - loss: 1.1579 - acc: 0.5340\n",
      "Epoch 3/10\n",
      "8/8 [==============================] - 21s 3s/step - loss: 0.8509 - acc: 0.6960\n",
      "Epoch 4/10\n",
      "8/8 [==============================] - 21s 3s/step - loss: 0.7238 - acc: 0.7440\n",
      "Epoch 5/10\n",
      "8/8 [==============================] - 22s 3s/step - loss: 0.6377 - acc: 0.7620\n",
      "Epoch 6/10\n",
      "8/8 [==============================] - 21s 3s/step - loss: 0.5884 - acc: 0.7800\n",
      "Epoch 7/10\n",
      "8/8 [==============================] - 14s 2s/step - loss: 0.5387 - acc: 0.8100\n",
      "Epoch 8/10\n",
      "8/8 [==============================] - 13s 2s/step - loss: 0.4867 - acc: 0.8280\n",
      "Epoch 9/10\n",
      "8/8 [==============================] - 13s 2s/step - loss: 0.4606 - acc: 0.8380\n",
      "Epoch 10/10\n",
      "8/8 [==============================] - 13s 2s/step - loss: 0.3993 - acc: 0.8440\n"
     ]
    },
    {
     "data": {
      "text/plain": [
       "<keras.src.callbacks.History at 0x21d85943b10>"
      ]
     },
     "execution_count": 6,
     "metadata": {},
     "output_type": "execute_result"
    }
   ],
   "source": [
    "model = model_maker()\n",
    "model.compile(loss='categorical_crossentropy',\n",
    "optimizer= tf.optimizers.Adam(learning_rate=0.001),\n",
    "metrics=['acc'])\n",
    "num_steps = math.ceil(float(TRAIN_SAMPLES)/BATCH_SIZE)\n",
    "model.fit(train_generator,\n",
    "steps_per_epoch = num_steps,\n",
    "epochs=10,\n",
    "validation_data = validation_generator,\n",
    "validation_steps = num_steps)"
   ]
  },
  {
   "cell_type": "code",
   "execution_count": 11,
   "id": "65a82f24",
   "metadata": {},
   "outputs": [],
   "source": [
    "model.save('Ailment.keras')\n"
   ]
  },
  {
   "cell_type": "code",
   "execution_count": 12,
   "id": "16a8f3c1",
   "metadata": {},
   "outputs": [],
   "source": [
    "from keras.models import load_model\n",
    "model = load_model('Ailment.keras')"
   ]
  },
  {
   "cell_type": "code",
   "execution_count": 13,
   "id": "5743af11",
   "metadata": {},
   "outputs": [
    {
     "name": "stdout",
     "output_type": "stream",
     "text": [
      "1/1 [==============================] - 1s 1s/step\n",
      "SORRY TO SAY BUT AAPKO ACNE HUA HAI!!\n"
     ]
    }
   ],
   "source": [
    "img_path = r\"C:\\Users\\TANISHKA\\OneDrive\\Desktop\\Validation\\ACNE\\rosacea-nose-52.jpg\"\n",
    "img = image.load_img(img_path, target_size=(224,224))\n",
    "img_array = image.img_to_array(img)\n",
    "expanded_img_array = np.expand_dims(img_array, axis=0)\n",
    "preprocessed_img = preprocess_input(expanded_img_array) # Preprocess the image\n",
    "prediction = model.predict(preprocessed_img)\n",
    "highest=prediction.argmax()\n",
    "result=list(validation_generator.class_indices.keys())[list(validation_generator.class_indices.values()).index(highest)]\n",
    "print(\"SORRY TO SAY BUT AAPKO {} HUA HAI!!\".format(result))\n",
    "\n",
    "\n"
   ]
  },
  {
   "cell_type": "code",
   "execution_count": 14,
   "id": "1fc95581",
   "metadata": {},
   "outputs": [
    {
     "name": "stdout",
     "output_type": "stream",
     "text": [
      "{'ACNE': 0, 'ECZEMA': 1, 'KELOIDALIS_ACNE_(YOU_WILL_SUFFER_FROM_HAIRLOSS)': 2, 'MELANOMA_SKIN_CANCER': 3, 'NAIL_FUNGUS': 4}\n"
     ]
    }
   ],
   "source": [
    "print(validation_generator.class_indices)"
   ]
  },
  {
   "cell_type": "code",
   "execution_count": null,
   "id": "d985e5ee",
   "metadata": {},
   "outputs": [],
   "source": []
  }
 ],
 "metadata": {
  "kernelspec": {
   "display_name": "Python 3 (ipykernel)",
   "language": "python",
   "name": "python3"
  },
  "language_info": {
   "codemirror_mode": {
    "name": "ipython",
    "version": 3
   },
   "file_extension": ".py",
   "mimetype": "text/x-python",
   "name": "python",
   "nbconvert_exporter": "python",
   "pygments_lexer": "ipython3",
   "version": "3.11.4"
  }
 },
 "nbformat": 4,
 "nbformat_minor": 5
}
